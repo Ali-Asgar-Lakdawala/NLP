{
  "nbformat": 4,
  "nbformat_minor": 0,
  "metadata": {
    "colab": {
      "name": "Lemmatization and stop words .ipynb",
      "provenance": [],
      "mount_file_id": "1gtINt0U7RLSvSbzK3KLf6qGGlD07A0N_",
      "authorship_tag": "ABX9TyMJf5hP6KGceKvlwGDOAN75",
      "include_colab_link": true
    },
    "kernelspec": {
      "name": "python3",
      "display_name": "Python 3"
    },
    "language_info": {
      "name": "python"
    }
  },
  "cells": [
    {
      "cell_type": "markdown",
      "metadata": {
        "id": "view-in-github",
        "colab_type": "text"
      },
      "source": [
        "<a href=\"https://colab.research.google.com/github/Ali-Asgar-Lakdawala/NLP/blob/main/Lemmatization_and_stop_words_.ipynb\" target=\"_parent\"><img src=\"https://colab.research.google.com/assets/colab-badge.svg\" alt=\"Open In Colab\"/></a>"
      ]
    },
    {
      "cell_type": "markdown",
      "metadata": {
        "id": "_kjyvswVvOD5"
      },
      "source": [
        "# Lemmatization"
      ]
    },
    {
      "cell_type": "code",
      "metadata": {
        "id": "fqNaM6S6vDS5"
      },
      "source": [
        "doc3 = nlp(u'Although commmonly attributed to John Lennon from his song \"Beautiful Boy\", \\\n",
        "the phrase \"Life is what happens to us while we are making other plans\" was written by \\\n",
        "cartoonist Allen Saunders and published in Reader\\'s Digest in 1957, when Lennon was 17.')"
      ],
      "execution_count": 114,
      "outputs": []
    },
    {
      "cell_type": "code",
      "metadata": {
        "id": "3WbM6tMIe-kQ"
      },
      "source": [
        "import spacy"
      ],
      "execution_count": 115,
      "outputs": []
    },
    {
      "cell_type": "code",
      "metadata": {
        "id": "reqlmvA1fdLk"
      },
      "source": [
        "nlp=spacy.load('en_core_web_sm')"
      ],
      "execution_count": 116,
      "outputs": []
    },
    {
      "cell_type": "code",
      "metadata": {
        "id": "TaZl1nZPfnvj"
      },
      "source": [
        "mystring='\" we\\'re moving to L.A. .\"'"
      ],
      "execution_count": 117,
      "outputs": []
    },
    {
      "cell_type": "code",
      "metadata": {
        "id": "bzLVswl8f6ul"
      },
      "source": [
        "doc=nlp(mystring)"
      ],
      "execution_count": 118,
      "outputs": []
    },
    {
      "cell_type": "code",
      "metadata": {
        "id": "0OnAhwNGgKOz",
        "colab": {
          "base_uri": "https://localhost:8080/",
          "height": 52
        },
        "outputId": "47bae5af-cd89-4da3-9f6b-649ea17b73b8"
      },
      "source": [
        "temp=[]\n",
        "for i in doc3:\n",
        "  temp.append(i.lemma_)\n",
        "mystring_new=' '.join(temp)\n",
        "mystring_new"
      ],
      "execution_count": 119,
      "outputs": [
        {
          "output_type": "execute_result",
          "data": {
            "application/vnd.google.colaboratory.intrinsic+json": {
              "type": "string"
            },
            "text/plain": [
              "'although commmonly attribute to John Lennon from -PRON- song \" Beautiful Boy \" , the phrase \" life be what happen to -PRON- while -PRON- be make other plan \" be write by cartoonist Allen Saunders and publish in Reader \\'s Digest in 1957 , when Lennon be 17 .'"
            ]
          },
          "metadata": {},
          "execution_count": 119
        }
      ]
    },
    {
      "cell_type": "code",
      "metadata": {
        "colab": {
          "base_uri": "https://localhost:8080/",
          "height": 52
        },
        "id": "Y4CqPQRFv2Cz",
        "outputId": "ed6d20f5-477d-4e27-865d-65b6ca6883c9"
      },
      "source": [
        "mystring_new=' '.join([i.lemma_ for i in doc3])\n",
        "mystring_new"
      ],
      "execution_count": 120,
      "outputs": [
        {
          "output_type": "execute_result",
          "data": {
            "application/vnd.google.colaboratory.intrinsic+json": {
              "type": "string"
            },
            "text/plain": [
              "'although commmonly attribute to John Lennon from -PRON- song \" Beautiful Boy \" , the phrase \" life be what happen to -PRON- while -PRON- be make other plan \" be write by cartoonist Allen Saunders and publish in Reader \\'s Digest in 1957 , when Lennon be 17 .'"
            ]
          },
          "metadata": {},
          "execution_count": 120
        }
      ]
    },
    {
      "cell_type": "markdown",
      "metadata": {
        "id": "MZVeSBSMvbSR"
      },
      "source": [
        "# Stop Words\n",
        "Words like \"a\" and \"the\" appear so frequently that they don't require tagging as thoroughly as nouns, verbs and modifiers. We call these *stop words*, and they can be filtered from the text to be processed. spaCy holds a built-in list of some 305 English stop words."
      ]
    },
    {
      "cell_type": "code",
      "metadata": {
        "id": "C4WPWCfDvbSS"
      },
      "source": [
        "# Perform standard imports:\n",
        "import spacy\n",
        "nlp = spacy.load('en_core_web_sm')"
      ],
      "execution_count": 121,
      "outputs": []
    },
    {
      "cell_type": "code",
      "metadata": {
        "id": "L8kBM8cFvbSU",
        "colab": {
          "base_uri": "https://localhost:8080/"
        },
        "outputId": "7e214e81-a87e-4e5f-dfea-acca2dccb71d"
      },
      "source": [
        "# Print the set of spaCy's default stop words (remember that sets are unordered):\n",
        "print(nlp.Defaults.stop_words)"
      ],
      "execution_count": 122,
      "outputs": [
        {
          "output_type": "stream",
          "name": "stdout",
          "text": [
            "{'will', 'this', 'the', 'formerly', 'those', 'all', 'that', 'few', 'ten', 'made', 'could', 'his', 'almost', \"'m\", 'we', 'hereafter', '‘re', 'anyhow', 'serious', 'might', 'seeming', 'using', 'seems', 'wherever', 'moreover', 'when', 'again', 'becoming', 'whole', '‘d', 'front', 'hers', 'any', '‘ve', 'used', '’ve', 'see', 'namely', 'yet', 'had', 'keep', 'its', 'everywhere', 'thereupon', '’s', 'go', 'her', '’d', 'former', 'how', 'empty', 'their', 'whom', 'own', 'therefore', 'never', 'often', 'himself', 'during', 'every', 'are', 'of', 'amongst', 'an', 'even', 'whither', 'nor', 'after', 'take', 'whereafter', 're', 'thereafter', 'side', 'unless', \"'ve\", 'not', '’ll', 'except', 'who', 'into', 'a', 'in', 'where', 'most', 'my', 'say', 'six', 'mine', 'nevertheless', 'only', 'something', 'myself', 'back', 'do', 'whereupon', 'part', 'n’t', 'someone', 'because', 'anywhere', 'without', 'hundred', 'last', 'along', 'various', '‘ll', 'same', 'then', 'herein', \"'s\", 'whoever', 'next', 'another', 'did', 'thru', 'being', 'four', 'sixty', 'why', 'please', 'n‘t', 'them', 'done', 'over', 'towards', 'others', 'some', 'against', 'nothing', 'beforehand', 'such', 'latter', 'seem', 'indeed', 'anyone', 'amount', 'out', 'more', 'neither', 'wherein', 'show', 'our', 'everyone', 'you', 'about', 'until', 'must', 'whether', 'somewhere', 'twenty', 'whereby', 'either', 'whatever', 'elsewhere', 'me', 'quite', 'less', 'i', 'be', 'also', 'yours', 'if', 'were', \"'ll\", 'via', 'herself', \"n't\", 'is', 'hereby', 'toward', 'enough', 'sometime', 'besides', 'since', 'very', 'thus', 'was', 'yourself', \"'d\", 'really', 'or', 'three', 'and', 'none', 'noone', 'anyway', 'from', 'seemed', 'became', 'beside', 'which', 'make', 'meanwhile', 'among', 'yourselves', 'nowhere', 'else', 'otherwise', 'once', 'would', 'although', 'cannot', 'third', 'with', 'below', 'too', 'afterwards', 'should', 'already', 'ourselves', 'full', 'get', 'further', 'to', 'both', 'whose', 'as', 'least', 'move', 'am', 'due', 'have', 'thereby', 'now', 'whence', 'several', 'hereupon', '‘m', 'first', 'there', 'sometimes', 'beyond', 'regarding', 'throughout', 'much', 'whenever', 'ca', 'alone', 'nine', '’m', 'before', 'behind', 'down', 'does', 'become', 'though', 'around', 'may', 'us', 'perhaps', 'him', 'call', 'can', 'whereas', 'between', 'up', 'well', 'eleven', 'give', 'one', 'it', 'top', \"'re\", 'these', 'through', 'fifty', 'bottom', 'many', 'under', 'while', 'on', 'within', 'latterly', 'above', 'he', 'here', '’re', 'together', 'thence', 'hence', 'name', 'however', 'five', 'what', 'onto', 'at', 'upon', 'therein', 'no', 'your', 'by', 'for', 'other', 'they', 'but', 'each', 'forty', 'just', 'per', 'fifteen', 'has', 'been', 'rather', 'across', 'two', 'doing', 'than', 'themselves', 'off', '‘s', 'becomes', 'eight', 'mostly', 'nobody', 'twelve', 'anything', 'ours', 'ever', 'everything', 'always', 'so', 'she', 'somehow', 'itself', 'put', 'still'}\n"
          ]
        }
      ]
    },
    {
      "cell_type": "code",
      "metadata": {
        "id": "HlnYIa8dvbSW",
        "colab": {
          "base_uri": "https://localhost:8080/"
        },
        "outputId": "56746c25-624d-4b9b-bc1b-a2ac54f5c8c4"
      },
      "source": [
        "len(nlp.Defaults.stop_words)"
      ],
      "execution_count": 123,
      "outputs": [
        {
          "output_type": "execute_result",
          "data": {
            "text/plain": [
              "326"
            ]
          },
          "metadata": {},
          "execution_count": 123
        }
      ]
    },
    {
      "cell_type": "markdown",
      "metadata": {
        "id": "28rKnR-bvbSX"
      },
      "source": [
        "## To see if a word is a stop word"
      ]
    },
    {
      "cell_type": "code",
      "metadata": {
        "id": "VO82CeOovbSX",
        "colab": {
          "base_uri": "https://localhost:8080/"
        },
        "outputId": "a7afb09d-ddf2-44b8-e5be-825708460466"
      },
      "source": [
        "nlp.vocab['myself'].is_stop"
      ],
      "execution_count": 124,
      "outputs": [
        {
          "output_type": "execute_result",
          "data": {
            "text/plain": [
              "True"
            ]
          },
          "metadata": {},
          "execution_count": 124
        }
      ]
    },
    {
      "cell_type": "code",
      "metadata": {
        "id": "MRiEYh_4vbSZ",
        "colab": {
          "base_uri": "https://localhost:8080/"
        },
        "outputId": "619b82da-c91a-4668-efac-5be44437af13"
      },
      "source": [
        "nlp.vocab['mystery'].is_stop"
      ],
      "execution_count": 125,
      "outputs": [
        {
          "output_type": "execute_result",
          "data": {
            "text/plain": [
              "False"
            ]
          },
          "metadata": {},
          "execution_count": 125
        }
      ]
    },
    {
      "cell_type": "markdown",
      "metadata": {
        "id": "lTeKTr1QvbSZ"
      },
      "source": [
        "## To add a stop word\n",
        "There may be times when you wish to add a stop word to the default set. Perhaps you decide that `'btw'` (common shorthand for \"by the way\") should be considered a stop word."
      ]
    },
    {
      "cell_type": "code",
      "metadata": {
        "id": "qMzFpEfmvbSa"
      },
      "source": [
        "# Add the word to the set of stop words. Use lowercase!\n",
        "nlp.Defaults.stop_words.add('btw')\n",
        "\n",
        "# Set the stop_word tag on the lexeme\n",
        "nlp.vocab['btw'].is_stop = True"
      ],
      "execution_count": 126,
      "outputs": []
    },
    {
      "cell_type": "code",
      "metadata": {
        "id": "rpkWh_ROvbSb",
        "colab": {
          "base_uri": "https://localhost:8080/"
        },
        "outputId": "6da05a0d-a1e2-4416-ad34-6037b328d47a"
      },
      "source": [
        "len(nlp.Defaults.stop_words)"
      ],
      "execution_count": 127,
      "outputs": [
        {
          "output_type": "execute_result",
          "data": {
            "text/plain": [
              "327"
            ]
          },
          "metadata": {},
          "execution_count": 127
        }
      ]
    },
    {
      "cell_type": "code",
      "metadata": {
        "id": "Zc-IP5FxvbSb",
        "colab": {
          "base_uri": "https://localhost:8080/"
        },
        "outputId": "4dfbbcb6-1e89-47d4-f069-644512ae5cc3"
      },
      "source": [
        "nlp.vocab['btw'].is_stop"
      ],
      "execution_count": 128,
      "outputs": [
        {
          "output_type": "execute_result",
          "data": {
            "text/plain": [
              "True"
            ]
          },
          "metadata": {},
          "execution_count": 128
        }
      ]
    },
    {
      "cell_type": "markdown",
      "metadata": {
        "id": "mKl8jxFKvbSc"
      },
      "source": [
        "<font color=green>When adding stop words, always use lowercase. Lexemes are converted to lowercase before being added to **vocab**.</font>"
      ]
    },
    {
      "cell_type": "markdown",
      "metadata": {
        "id": "5-a0opAtvbSc"
      },
      "source": [
        "## To remove a stop word\n",
        "Alternatively, you may decide that `'beyond'` should not be considered a stop word."
      ]
    },
    {
      "cell_type": "code",
      "metadata": {
        "id": "DzAgTPNRvbSd"
      },
      "source": [
        "# Remove the word from the set of stop words\n",
        "nlp.Defaults.stop_words.remove('beyond')\n",
        "\n",
        "# Remove the stop_word tag from the lexeme\n",
        "nlp.vocab['beyond'].is_stop = False"
      ],
      "execution_count": 129,
      "outputs": []
    },
    {
      "cell_type": "code",
      "metadata": {
        "id": "NRb3Q8rnvbSd",
        "colab": {
          "base_uri": "https://localhost:8080/"
        },
        "outputId": "2c096ce5-55b1-4152-a717-f327ff4ecb49"
      },
      "source": [
        "len(nlp.Defaults.stop_words)"
      ],
      "execution_count": 130,
      "outputs": [
        {
          "output_type": "execute_result",
          "data": {
            "text/plain": [
              "326"
            ]
          },
          "metadata": {},
          "execution_count": 130
        }
      ]
    },
    {
      "cell_type": "code",
      "metadata": {
        "id": "Ox6kUoohvbSd",
        "colab": {
          "base_uri": "https://localhost:8080/"
        },
        "outputId": "e6497902-9bf6-4793-ef66-a2fd6b35c2b9"
      },
      "source": [
        "nlp.vocab['beyond'].is_stop"
      ],
      "execution_count": 131,
      "outputs": [
        {
          "output_type": "execute_result",
          "data": {
            "text/plain": [
              "False"
            ]
          },
          "metadata": {},
          "execution_count": 131
        }
      ]
    }
  ]
}
