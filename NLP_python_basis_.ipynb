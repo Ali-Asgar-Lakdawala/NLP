{
  "nbformat": 4,
  "nbformat_minor": 0,
  "metadata": {
    "colab": {
      "name": "NLP python basis .ipynb",
      "provenance": [],
      "mount_file_id": "1QpvPKEuUvCX2-8chZt9Jq88c7L3Eyar4",
      "authorship_tag": "ABX9TyMp1vfkG6/jk0hDc2BGYQXR",
      "include_colab_link": true
    },
    "kernelspec": {
      "name": "python3",
      "display_name": "Python 3"
    },
    "language_info": {
      "name": "python"
    }
  },
  "cells": [
    {
      "cell_type": "markdown",
      "metadata": {
        "id": "view-in-github",
        "colab_type": "text"
      },
      "source": [
        "<a href=\"https://colab.research.google.com/github/Ali-Asgar-Lakdawala/NLP/blob/main/NLP_python_basis_.ipynb\" target=\"_parent\"><img src=\"https://colab.research.google.com/assets/colab-badge.svg\" alt=\"Open In Colab\"/></a>"
      ]
    },
    {
      "cell_type": "code",
      "metadata": {
        "id": "Ziz-2kYoBq4C"
      },
      "source": [
        "tuple_list=[('author','topic','page_no'),('ali','smart',456),('abbas','very_smart',789)]"
      ],
      "execution_count": 6,
      "outputs": []
    },
    {
      "cell_type": "code",
      "metadata": {
        "colab": {
          "base_uri": "https://localhost:8080/"
        },
        "id": "IDc2HMlsL7nj",
        "outputId": "520d8887-24b4-4241-fdde-b9e2c57bfa9a"
      },
      "source": [
        "for x,y,z in tuple_list:\n",
        "  print(f'{x:10}{y:10}{z:.>10}')"
      ],
      "execution_count": 15,
      "outputs": [
        {
          "output_type": "stream",
          "name": "stdout",
          "text": [
            "author    topic     ...page_no\n",
            "ali       smart     .......456\n",
            "abbas     very_smart.......789\n"
          ]
        }
      ]
    },
    {
      "cell_type": "code",
      "metadata": {
        "id": "JKL6k3LPMMSn"
      },
      "source": [
        "from datetime import datetime"
      ],
      "execution_count": 16,
      "outputs": []
    },
    {
      "cell_type": "code",
      "metadata": {
        "id": "e1QDwmUWNrwt"
      },
      "source": [
        "today = datetime.today()"
      ],
      "execution_count": 20,
      "outputs": []
    },
    {
      "cell_type": "code",
      "metadata": {
        "colab": {
          "base_uri": "https://localhost:8080/"
        },
        "id": "23O-JT6vNwxG",
        "outputId": "94833fff-463d-4645-f78d-454492df3c3d"
      },
      "source": [
        "# for more look at strftime.org for mor % signs\n",
        "print(f'{today:%B %d, %Y}')"
      ],
      "execution_count": 24,
      "outputs": [
        {
          "output_type": "stream",
          "name": "stdout",
          "text": [
            "October 26, 2021\n"
          ]
        }
      ]
    }
  ]
}